{
 "cells": [
  {
   "cell_type": "markdown",
   "metadata": {
    "deletable": false,
    "editable": false,
    "nbgrader": {
     "cell_type": "markdown",
     "checksum": "8e2919035be304c6394cdc61dbc88a8e",
     "grade": false,
     "grade_id": "header-1",
     "locked": true,
     "schema_version": 3,
     "solution": false
    }
   },
   "source": [
    "# COGS 108 - Assignment 1: git & Python\n",
    "\n",
    "This assignment covers git, GitHub, and Python Basics. \n",
    "\n",
    "Feel free to check out the relevant tutorials on https://github.com/COGS108/Tutorials and available [Resources](https://github.com/COGS108/Resources) for guidance for these topics if you're less familiar.\n",
    "\n",
    "This assignment is out of 8 points, worth 8% of your grade.\n",
    "\n",
    "**PLEASE DO NOT CHANGE THE NAME OF THIS FILE.**\n",
    "\n",
    "**PLEASE DO NOT COPY & PASTE OR DELETE CELLS INLCUDED IN THE ASSIGNMENT.** (Note that you *can* add additional cells, if you want to test things out.)"
   ]
  },
  {
   "cell_type": "markdown",
   "metadata": {
    "deletable": false,
    "editable": false,
    "nbgrader": {
     "cell_type": "markdown",
     "checksum": "92817b7b15666c4b48db94e8b5c646c4",
     "grade": false,
     "grade_id": "cell-076d94f60e5b8c08",
     "locked": true,
     "schema_version": 3,
     "solution": false
    }
   },
   "source": [
    "## How to complete assignments\n",
    "\n",
    "Whenever you see:\n",
    "\n",
    "```python\n",
    "# YOUR CODE HERE\n",
    "raise NotImplementedError()\n",
    "```\n",
    "\n",
    "You need to **replace (meaning: delete) these lines of code with some code that answers the questions** and meets the specified criteria. Make sure you remove the 'raise' line when you do this (or your notebook will raise an error, regardless of any other code, and thus fail the grading tests).\n",
    "\n",
    "You should write the answer to the questions in those cells (the ones with `# YOUR CODE HERE`), but you can also add extra cells to explore / investigate things if you need / want to. \n",
    "\n",
    "### How to Score Points\n",
    "\n",
    "Any cell with `assert` statements in it is a test cell. You should not try to change or delete these cells. Note that there might be more than one assert that tests a particular question, and there may be some additional hidden `assert` statements to test your code.\n",
    "\n",
    "Reading assert errors if and when they fail is a great way to debug your code and find out what went wrong.\n",
    "\n",
    "Note that some cells, including the test cells, may be read only, which means they won't let you edit them. If you cannot edit a cell - that is normal, and you shouldn't need to edit that cell.\n",
    "\n",
    "All outside packages/modules that will be used will be specified. You may not use other libraries in the assignments.\n",
    "\n",
    "Finally, note that questions have points as specified in the detailed instructions. "
   ]
  },
  {
   "cell_type": "markdown",
   "metadata": {
    "deletable": false,
    "editable": false,
    "nbgrader": {
     "cell_type": "markdown",
     "checksum": "08d2b4c521db6aee876ffd0bba9ba864",
     "grade": false,
     "grade_id": "cell-4c8a8f6b7a6d6aff",
     "locked": true,
     "schema_version": 3,
     "solution": false
    }
   },
   "source": [
    "## Introduction\n",
    "\n",
    "The purpose of this assignment is to make sure you have the tools you'll need to use\n",
    "for COGS 108. Notably, we'll be using Python, Jupyter notebooks, and git/GitHub. Since we're using [datahub](http://datahub.ucsd.edu), you won't *need* a local version of Jupyter or Python on your computer. So, for this assignment, we'll focus on getting you set up on GitHub.\n",
    "\n",
    "Most assignments will be completed completely within the Jupyter Notebook and submitted on datahub; however, for this first assignment, we want you to be comfortable in GitHub. Tasks to complete Part 1 below will require work outside of this notebook.\n"
   ]
  },
  {
   "cell_type": "markdown",
   "metadata": {
    "collapsed": true,
    "deletable": false,
    "editable": false,
    "nbgrader": {
     "cell_type": "markdown",
     "checksum": "b01f9222b9c592448021b0d00f401ade",
     "grade": false,
     "grade_id": "part1-instr",
     "locked": true,
     "schema_version": 3,
     "solution": false
    }
   },
   "source": [
    "## Part 1: git & GitHub (2.5 points)\n",
    "\n",
    "If you're new to git and GitHub, documentation [here](https://help.github.com/en/github/getting-started-with-github), [here](https://guides.github.com/activities/hello-world/), and [here](https://github.com/jlord/git-it-electron#what-to-install) will likely be helpful. \n",
    "\n",
    "Below, we will have you accomplish three common GitHub tasks. Well explain them briefly here and _why_ we're having you do them. Step-by-step instructions are then included below.\n",
    "\n",
    "* Cloning repositories from GitHub - you'll do this any time you want to get a repo from GitHub to your local machine.\n",
    "* Creating a new repository on your GitHub - here, you'll create the repo, add files to the repo, and commit these changes\n",
    "* Fork a repo & submit a PR - any time you want to work with someone else's repo to which you don't have access, you'll use this procedure. \n",
    "\n",
    "#### Step-by-Step Instructions\n",
    "\n",
    "1. If you do not already have one, **create a GitHub account**\n",
    "  - Follow instructions here: https://github.com/\n",
    "2. **Make a public repo** on your GitHub called 'COGS108_Repo'\n",
    "  - Make sure this repository is public\n",
    "  - Make sure you name the repo exactly as you see it above\n",
    "  - Within `COGS108_Repo`, create two files: 'README.md' and '.gitignore'. \n",
    "      - Add these to 'COGS108_Repo'.\n",
    "      - Reminder: the shell command `touch` creates an empty file.\n",
    "      - These can contain anything you want (or be empty).\n",
    "      - Stage, commit, and push these changes to your GitHub.\n",
    "3. **Make a Pull Request**\n",
    "  - Fork the COGS108 repo called 'MyFirstPullRequest' to your GitHub account.\n",
    "      - Go to the COGS108/MyFirstPullRequest on GitHub. \n",
    "          - On the top right of the page, click on the 'Fork' button and click through to Fork the repository to your GitHub account\n",
    "  - Clone that fork onto your computer.\n",
    "  - You are going to add a text file with a unique identifier to your repo\n",
    "      - The unique identifier should be: the first letter of your first name (capitalized) + the first letter of your last name (capitalized) + the last 2 digits of your Student ID (PID). \n",
    "      - For example, John Smith - A12345678 should submit 'JS78.txt'. \n",
    "      - The contents of this file do not matter (it can be empty). \n",
    "      - Add this file to your cloned repository (the folder on your computer).\n",
    "      - Note: A 'txt' file is a plain text file. It should have the extension '.txt'. You may need to specify, in your preferred text editor, to save this filetype.\n",
    "  - Stage & Commit these files.\n",
    "  - Push these updates to the cloned repo, on your GitHub account.\n",
    "  - Go to GitHub.com, to '/YourAcct/MyFirstPullRequest' where you should now see your txt file. \n",
    "  - Create a Pull Request (PR).\n",
    "    - Click on 'New Pull Request'\n",
    "    - Click on 'Create Pull Request' (in green)\n",
    "    - Replace the commit message with the same identifier (ex - 'JS78')\n",
    "    - Click 'Create Pull Request'.\n",
    "4. *Optional*: **Clone the class repositories** (We won't be grading this...but if you want to have access to the course materials on your computer, it may be a good idea.)\n",
    "  - Go to the class organization: https://github.com/COGS108\n",
    "  - Clone 'Lectures-Ellis' and 'Projects'\n",
    "- You're done!\n",
    "  \n",
    "#### General Notes\n",
    "\n",
    "Make sure all the specified repos and files that you make on GitHub are *public*, and that you type your GitHub username in properly below. Automated procedures will be used to check that these repos exist, that the Pull Request was received, and that the submitted Jupyter notebook runs as expected. \n"
   ]
  },
  {
   "cell_type": "markdown",
   "metadata": {
    "collapsed": true,
    "deletable": false,
    "editable": false,
    "nbgrader": {
     "cell_type": "markdown",
     "checksum": "29a47b0001c386648123d22f79217bf7",
     "grade": false,
     "grade_id": "header-2",
     "locked": true,
     "schema_version": 3,
     "solution": false
    }
   },
   "source": [
    "### Q0: <span style=\"color: red;\">PID & GitHub Username </span> (2.5 points)\n",
    "\n",
    "Once you've completed the above instructions, we'll need you to provide us with your PID and GitHub username so that we can check completion and accuracy of the tasks assigned above.\n",
    "\n",
    "In the cell below, assign your UCSD PID as a string to the variable `PID` and your GitHub username as a string to the variable `github_username`.\n",
    "\n",
    "For example, the cell below may look something like this (But will include *your* PID and username):\n",
    "\n",
    "```python\n",
    "PID = 'A1234567'\n",
    "github_username = 'ShanEllis'\n",
    "```\n",
    "\n",
    "*Note*: Make sure you provide your GitHub username, **not the email address** you used to create the account, follow instructions, and avoid typos. You will not get credit for this section if typos are made."
   ]
  },
  {
   "cell_type": "code",
   "execution_count": 1,
   "metadata": {
    "deletable": false,
    "nbgrader": {
     "cell_type": "code",
     "checksum": "9b8937db5d8e3588616bd0446309b04d",
     "grade": false,
     "grade_id": "cell-784114344a572182",
     "locked": false,
     "schema_version": 3,
     "solution": true
    }
   },
   "outputs": [],
   "source": [
    "# your code here\n",
    "PID = \"A16740028\"\n",
    "github_username = \"kisenera\""
   ]
  },
  {
   "cell_type": "code",
   "execution_count": 2,
   "metadata": {},
   "outputs": [
    {
     "data": {
      "text/plain": [
       "'www.github.com/kisenera'"
      ]
     },
     "execution_count": 2,
     "metadata": {},
     "output_type": "execute_result"
    }
   ],
   "source": [
    "# if you navigate to this link\n",
    "# it should open your GitHub page\n",
    "# if it doesn't, fix your username above\n",
    "'www.github.com/' + github_username"
   ]
  },
  {
   "cell_type": "code",
   "execution_count": 3,
   "metadata": {
    "deletable": false,
    "editable": false,
    "nbgrader": {
     "cell_type": "code",
     "checksum": "49127c13fc823978860623fcd3876a78",
     "grade": true,
     "grade_id": "cell-216ded1c5ab2c280",
     "locked": true,
     "points": 0,
     "schema_version": 3,
     "solution": false
    }
   },
   "outputs": [],
   "source": [
    "assert PID\n",
    "assert github_username"
   ]
  },
  {
   "cell_type": "markdown",
   "metadata": {
    "deletable": false,
    "editable": false,
    "nbgrader": {
     "cell_type": "markdown",
     "checksum": "2d032e2ced96cebbeff95f07665228f5",
     "grade": false,
     "grade_id": "part2-instr",
     "locked": true,
     "schema_version": 3,
     "solution": false
    }
   },
   "source": [
    "## Part 2: Python (5.5 points)\n",
    "\n",
    "This part of the assignment is focused on some practice with Python, and with practicing working with the format of the assignments. \n",
    "\n",
    "This class assumes some prior knowledge of Python. In the following questions, you will need to work with basic (standard library) data types (floats, lists, dictionaries, etc.) and control flow (conditionals, loops, functions, etc). If the questions in this section are totally unfamiliar to you, you may need to revisit some practice materials to catch up with some of the programming. \n",
    "\n",
    "Through these questions, we will also prompt you to use a couple slightly more advanced standard library functions (for example, `enumerate` and `zip`), that may be new to you.\n",
    "\n",
    "Each question should be answerable with a relatively small number of lines of code, up to about 5-7 lines at most. \n",
    "\n",
    "If you are having any trouble, remember to visit the course tutorials (https://github.com/COGS108/Tutorials) and/or resources (https://github.com/COGS108/Resources). Assignment questions often follow the structure of examples provided in the tutorials, and a large number of relevant links and external materials are also indexed in the tutorials. "
   ]
  },
  {
   "cell_type": "code",
   "execution_count": 4,
   "metadata": {
    "deletable": false,
    "editable": false,
    "nbgrader": {
     "cell_type": "code",
     "checksum": "65268ebb5af62f76a9b8ce9b6e51f668",
     "grade": false,
     "grade_id": "cell-182bb77c3bd740b3",
     "locked": true,
     "schema_version": 3,
     "solution": false
    }
   },
   "outputs": [
    {
     "name": "stdout",
     "output_type": "stream",
     "text": [
      "8\n"
     ]
    }
   ],
   "source": [
    "# PRINTING VARIABLES\n",
    "# A reminder that you can (and should) print and check variables as you go.\n",
    "#  This allows you to check what values they hold, and debug if anything unexpected happens.\n",
    "\n",
    "# Define a variable\n",
    "math_result = 2 * 4\n",
    "\n",
    "# Print out the value(s) of a variable.\n",
    "print(math_result)"
   ]
  },
  {
   "cell_type": "markdown",
   "metadata": {
    "deletable": false,
    "editable": false,
    "nbgrader": {
     "cell_type": "markdown",
     "checksum": "e8ada2402aa9f043752392800d54f574",
     "grade": false,
     "grade_id": "cell-4c8a389dd1bd61b8",
     "locked": true,
     "schema_version": 3,
     "solution": false
    }
   },
   "source": [
    "**Q1: Defining Variables (0.25 points)**\n",
    "\n",
    "Create the following variables:\n",
    "- a variable called `my_int` that stores the integer 2\n",
    "- a variable called `my_float` that stores the float 2.29\n",
    "- a variable called `my_string` that stores the string 'COGS'\n",
    "- a variable called `my_bool` that stores the boolean `False`"
   ]
  },
  {
   "cell_type": "code",
   "execution_count": 5,
   "metadata": {
    "deletable": false,
    "nbgrader": {
     "cell_type": "code",
     "checksum": "f4da002614bd79a21625ed624a9aa466",
     "grade": false,
     "grade_id": "cell-ba64d778a1562c6e",
     "locked": false,
     "schema_version": 3,
     "solution": true
    }
   },
   "outputs": [],
   "source": [
    "# your code here\n",
    "my_int = 2\n",
    "my_float = 2.29\n",
    "my_string = 'COGS'\n",
    "my_bool = False"
   ]
  },
  {
   "cell_type": "code",
   "execution_count": 6,
   "metadata": {
    "deletable": false,
    "editable": false,
    "nbgrader": {
     "cell_type": "code",
     "checksum": "89bf3ff3a7d3347cda8a88e0fd5ad5f5",
     "grade": true,
     "grade_id": "cell-6b812a82cf83cb02",
     "locked": true,
     "points": 0.25,
     "schema_version": 3,
     "solution": false
    }
   },
   "outputs": [],
   "source": [
    "# Tests that check that each variable is of the right type\n",
    "assert isinstance(my_int, int)\n",
    "assert isinstance(my_float, float)\n",
    "assert isinstance(my_string, str)\n",
    "assert isinstance(my_bool, bool)\n"
   ]
  },
  {
   "cell_type": "markdown",
   "metadata": {
    "deletable": false,
    "editable": false,
    "nbgrader": {
     "cell_type": "markdown",
     "checksum": "641b947f0ce644406a632b7369f0fdba",
     "grade": false,
     "grade_id": "cell-f76482afcae76b14",
     "locked": true,
     "schema_version": 3,
     "solution": false
    }
   },
   "source": [
    "**Q2: Defining Variables: Lists & Tuples (0.25 points)**\n",
    "\n",
    "Define a list called `var_a`, that contains individual letters a-f (inclusively).\n",
    "\n",
    "Define a tuple called `var_b`, that contains the numbers 0-5 (inclusively)."
   ]
  },
  {
   "cell_type": "code",
   "execution_count": 7,
   "metadata": {
    "deletable": false,
    "nbgrader": {
     "cell_type": "code",
     "checksum": "feab5e1d0f20002dcad4bb3cf0770930",
     "grade": false,
     "grade_id": "cell-4db8c933a259ed1b",
     "locked": false,
     "schema_version": 3,
     "solution": true
    }
   },
   "outputs": [],
   "source": [
    "# your code here\n",
    "var_a = ['a', 'b', 'c', 'd', 'e', 'f']\n",
    "var_b = (0, 1, 2, 3, 4, 5)"
   ]
  },
  {
   "cell_type": "code",
   "execution_count": 8,
   "metadata": {
    "deletable": false,
    "editable": false,
    "nbgrader": {
     "cell_type": "code",
     "checksum": "8971d460de4804a9cbe36af3cbd74e0d",
     "grade": true,
     "grade_id": "cell-88582fbb27969b63",
     "locked": true,
     "points": 0.25,
     "schema_version": 3,
     "solution": false
    }
   },
   "outputs": [],
   "source": [
    "# These tests check the variables are defined\n",
    "assert var_a\n",
    "assert var_b\n",
    "\n",
    "# These tests check that the variables are the right data types\n",
    "assert isinstance(var_a, list)\n",
    "assert isinstance(var_b, tuple)\n",
    "\n",
    "# hidden tests to make sure you have the right values in the variables\n",
    "### BEGIN HIDDEN TEST\n",
    "# These tests check the variables have the right values\n",
    "assert var_a == ['a', 'b', 'c', 'd', 'e', 'f']\n",
    "assert var_b == (0, 1, 2, 3, 4, 5)\n",
    "### END HIDDEN TEST"
   ]
  },
  {
   "cell_type": "markdown",
   "metadata": {
    "deletable": false,
    "editable": false,
    "nbgrader": {
     "cell_type": "markdown",
     "checksum": "a6e5bb7be14ed92fa43f923981f4f6a9",
     "grade": false,
     "grade_id": "cell-699c885e5d4d90a9",
     "locked": true,
     "schema_version": 3,
     "solution": false
    }
   },
   "source": [
    "**Q3: Defining Variables: Dictionaries (0.5 points)**\n",
    "\n",
    "Create a Python dict called `dictionary` where the keys are the elements in `var_a` and the values are the corresponding elements in `var_b`. (Note: Use `var_a` and `var_b` you created above.)\n",
    "\n",
    "Hints:\n",
    "1. The `zip` function may be useful.\n",
    "2. You might also make use of a Python dictionary comprehension. (It's OK if you use a different approach.)"
   ]
  },
  {
   "cell_type": "code",
   "execution_count": 9,
   "metadata": {
    "deletable": false,
    "nbgrader": {
     "cell_type": "code",
     "checksum": "596290d8b097ef54972ee20daf6a12e1",
     "grade": false,
     "grade_id": "cell-a0c9ee8ea65481d3",
     "locked": false,
     "schema_version": 3,
     "solution": true
    }
   },
   "outputs": [],
   "source": [
    "# your code here\n",
    "dictionary = dict(zip(var_a, var_b))"
   ]
  },
  {
   "cell_type": "code",
   "execution_count": 10,
   "metadata": {
    "deletable": false,
    "editable": false,
    "nbgrader": {
     "cell_type": "code",
     "checksum": "773700944a17c23b6314b34d7283bf9b",
     "grade": true,
     "grade_id": "cell-611de86b26434b5e",
     "locked": true,
     "points": 0.5,
     "schema_version": 3,
     "solution": false
    }
   },
   "outputs": [],
   "source": [
    "assert dictionary\n",
    "assert isinstance(dictionary, dict)\n",
    "\n",
    "# There are also some hidden tests that check the contents of dictionary"
   ]
  },
  {
   "cell_type": "markdown",
   "metadata": {},
   "source": [
    "**Q4: Value Comparisons (0.25 points)**\n",
    "\n",
    "Store values in the variables `comp_val_1`, `comp_val_2`,`comp_val_3`, and `comp_val_4` such that the assert cell will pass silently (meaning the tests will pass and not produce an error). "
   ]
  },
  {
   "cell_type": "code",
   "execution_count": 11,
   "metadata": {
    "deletable": false,
    "nbgrader": {
     "cell_type": "code",
     "checksum": "25238090c1fec599edb1b435137835d6",
     "grade": false,
     "grade_id": "cell-2117f36254285222",
     "locked": false,
     "schema_version": 3,
     "solution": true
    }
   },
   "outputs": [],
   "source": [
    "# your code here\n",
    "comp_val_1 = 2\n",
    "comp_val_2 = 8\n",
    "comp_val_3 = 1\n",
    "comp_val_4 = 1"
   ]
  },
  {
   "cell_type": "code",
   "execution_count": 12,
   "metadata": {
    "deletable": false,
    "editable": false,
    "nbgrader": {
     "cell_type": "code",
     "checksum": "6d7f5e78754a485163c30b0b95e786e7",
     "grade": true,
     "grade_id": "cell-68658c3ed892c21b",
     "locked": true,
     "points": 0.25,
     "schema_version": 3,
     "solution": false
    }
   },
   "outputs": [],
   "source": [
    "assert comp_val_1 < comp_val_2\n",
    "assert comp_val_3 == comp_val_4\n",
    "assert comp_val_4 <= comp_val_1"
   ]
  },
  {
   "cell_type": "markdown",
   "metadata": {
    "deletable": false,
    "editable": false,
    "nbgrader": {
     "cell_type": "markdown",
     "checksum": "e1ad8b553965c5161e908a72f08d9358",
     "grade": false,
     "grade_id": "cell-e355ac07c010ec1a",
     "locked": true,
     "schema_version": 3,
     "solution": false
    }
   },
   "source": [
    "**Q5: Control Flow (0.5 points)**\n",
    "\n",
    "Loop through the provided list `my_list`. For each element, check if it is an odd number. If the element is an odd number, append the INDEX of that element to the list `inds`.\n",
    "\n",
    "Note that you are adding the index to `inds`, **not the element itself**. (Reminder: Python uses zero-based indexing, so the index of the first element in the list is 0.)\n",
    "   \n",
    "Hints: \n",
    "1. To check if a number is even, you can use the modulo `%` operator.\n",
    "2. To loop through an iterable, keeping track of the index, you can (but are not required to) use the `enumerate` function."
   ]
  },
  {
   "cell_type": "code",
   "execution_count": 13,
   "metadata": {
    "deletable": false,
    "editable": false,
    "nbgrader": {
     "cell_type": "code",
     "checksum": "2ce6f1d6dde10d132e5a278b18f60e5d",
     "grade": false,
     "grade_id": "cell-0e679850cd88be31",
     "locked": true,
     "schema_version": 3,
     "solution": false,
     "task": false
    }
   },
   "outputs": [],
   "source": [
    "# These variables are provided to you.\n",
    "my_list = [1, 2, 3, 4, 5, 6, 7, 8, 9, 10, 11, 12, 13, 14, 15]\n",
    "inds = []"
   ]
  },
  {
   "cell_type": "code",
   "execution_count": 14,
   "metadata": {
    "deletable": false,
    "nbgrader": {
     "cell_type": "code",
     "checksum": "7eb2ef2091ca986bb3cc9e47de7f572c",
     "grade": false,
     "grade_id": "cell-5c803671612c731a",
     "locked": false,
     "schema_version": 3,
     "solution": true
    }
   },
   "outputs": [],
   "source": [
    "# your code here\n",
    "for i, e in enumerate(my_list):\n",
    "    if i % 2 != 0:\n",
    "        inds.append(e)"
   ]
  },
  {
   "cell_type": "code",
   "execution_count": 15,
   "metadata": {
    "deletable": false,
    "editable": false,
    "nbgrader": {
     "cell_type": "code",
     "checksum": "e7688356bd60aa6cb22c2a4a4777b850",
     "grade": true,
     "grade_id": "cell-eec717db577f9cce",
     "locked": true,
     "points": 0.25,
     "schema_version": 3,
     "solution": false
    }
   },
   "outputs": [],
   "source": [
    "assert isinstance(inds, list)"
   ]
  },
  {
   "cell_type": "code",
   "execution_count": 16,
   "metadata": {
    "deletable": false,
    "editable": false,
    "nbgrader": {
     "cell_type": "code",
     "checksum": "065b7691daf095113c827832c96034ef",
     "grade": true,
     "grade_id": "cell-90cd314531614439",
     "locked": true,
     "points": 0.25,
     "schema_version": 3,
     "solution": false
    }
   },
   "outputs": [],
   "source": [
    "assert inds\n",
    "\n",
    "# There is also a hidden test that checks the contents of 'inds'"
   ]
  },
  {
   "cell_type": "markdown",
   "metadata": {
    "deletable": false,
    "editable": false,
    "nbgrader": {
     "cell_type": "markdown",
     "checksum": "74a0a746bb27da2346af92c6714d9ce6",
     "grade": false,
     "grade_id": "cell-91a355d51f2f21ab",
     "locked": true,
     "schema_version": 3,
     "solution": false
    }
   },
   "source": [
    "**Q6: Indexing (0.5 points)**\n",
    "\n",
    "Using the four lists provided in the cell below, complete the following *using indexing/slicing*:\n",
    "- Use forward indexing to store the second value in `list_1` to `index_1`\n",
    "- Use negative indexing to store the second value from the end in `list_2` to `index_2`\n",
    "- Use slicing to store the third and fourth values (inclusive) of `list_3` to `index_3`\n",
    "- Use slicing to store the last two values of `list_4` to `index_4` \n",
    "\n",
    "Note: Slices should store information in the same order as the original list."
   ]
  },
  {
   "cell_type": "code",
   "execution_count": 17,
   "metadata": {
    "deletable": false,
    "editable": false,
    "nbgrader": {
     "cell_type": "code",
     "checksum": "4320ce75df9427a00d5f1dee0933d36e",
     "grade": false,
     "grade_id": "cell-c89fb5145d3106e2",
     "locked": true,
     "schema_version": 3,
     "solution": false
    }
   },
   "outputs": [],
   "source": [
    "# provided for you\n",
    "list_1 = [10, 20, 30, 40]\n",
    "list_2 = [13, 15, 17, 19, 21, 23]\n",
    "list_3 = [1, 2, 3, 4, 5, 6, 7, 8, 9, 10, 11]\n",
    "list_4 = [21, 9, 98, 289, 938]"
   ]
  },
  {
   "cell_type": "code",
   "execution_count": 18,
   "metadata": {
    "deletable": false,
    "nbgrader": {
     "cell_type": "code",
     "checksum": "6aa3bd5e5bdf08093a5142c9dd344a38",
     "grade": false,
     "grade_id": "cell-4094a1f93e0d8bd7",
     "locked": false,
     "schema_version": 3,
     "solution": true
    }
   },
   "outputs": [],
   "source": [
    "# your code here\n",
    "index_1 = list_1[1]\n",
    "index_2 = list_2[-2]\n",
    "index_3 = list_3[2:4]\n",
    "index_4 = list_4[-2:]"
   ]
  },
  {
   "cell_type": "code",
   "execution_count": 19,
   "metadata": {
    "deletable": false,
    "editable": false,
    "nbgrader": {
     "cell_type": "code",
     "checksum": "e96772bf8c2e32776685d54212b5b43f",
     "grade": true,
     "grade_id": "cell-4bf3bc61f6f0e1b8",
     "locked": true,
     "points": 0.1,
     "schema_version": 3,
     "solution": false
    }
   },
   "outputs": [],
   "source": [
    "assert isinstance(index_1, int)"
   ]
  },
  {
   "cell_type": "code",
   "execution_count": 20,
   "metadata": {
    "deletable": false,
    "editable": false,
    "nbgrader": {
     "cell_type": "code",
     "checksum": "a6398b61df0922aeaf81bb4a97f604fd",
     "grade": true,
     "grade_id": "cell-9d8e61c652862c50",
     "locked": true,
     "points": 0.1,
     "schema_version": 3,
     "solution": false
    }
   },
   "outputs": [],
   "source": [
    "assert isinstance(index_2, int)"
   ]
  },
  {
   "cell_type": "code",
   "execution_count": 21,
   "metadata": {
    "deletable": false,
    "editable": false,
    "nbgrader": {
     "cell_type": "code",
     "checksum": "cc82328c199921911180bf68d42eefb7",
     "grade": true,
     "grade_id": "cell-f6562819b4f97063",
     "locked": true,
     "points": 0.15,
     "schema_version": 3,
     "solution": false
    }
   },
   "outputs": [],
   "source": [
    "assert isinstance(index_3, list)"
   ]
  },
  {
   "cell_type": "code",
   "execution_count": 22,
   "metadata": {
    "deletable": false,
    "editable": false,
    "nbgrader": {
     "cell_type": "code",
     "checksum": "c3d865f7d348ca9f1b15fe357066403b",
     "grade": true,
     "grade_id": "cell-a93b32d8d0cf0352",
     "locked": true,
     "points": 0.15,
     "schema_version": 3,
     "solution": false
    }
   },
   "outputs": [],
   "source": [
    "assert isinstance(index_4, list)"
   ]
  },
  {
   "cell_type": "markdown",
   "metadata": {},
   "source": [
    "**Q7: Looping through Dictionaries (0.75 points)**\n",
    "\n",
    "Imagine, for example, we have a `students` dictionary that indicates whether a student has completed an assignment and we want to track the students that have not yet completed the assignment.\n",
    "\n",
    "Using the `students` dictionary provided below, write a for loop that loops across the dictionary and collects all subject numbers (ex. 'S2') where the dictionary value is `False`. Store the subject numbers in a new list named `incomplete`.\n",
    "\n",
    "The code should programmatically determine which keys store the value `False`, storing those keys in a list."
   ]
  },
  {
   "cell_type": "code",
   "execution_count": 23,
   "metadata": {
    "deletable": false,
    "editable": false,
    "nbgrader": {
     "cell_type": "code",
     "checksum": "0475626289467f080c87f176044c3c43",
     "grade": false,
     "grade_id": "cell-13b61480d4658050",
     "locked": true,
     "schema_version": 3,
     "solution": false
    }
   },
   "outputs": [],
   "source": [
    "# This dictionary provided for you\n",
    "students = {\n",
    "    'S0' : True,\n",
    "    'S1' : True,\n",
    "    'S2' : False,\n",
    "    'S3' : True,\n",
    "    'S4' : False,\n",
    "    'S5' : True\n",
    "}"
   ]
  },
  {
   "cell_type": "code",
   "execution_count": 24,
   "metadata": {
    "deletable": false,
    "nbgrader": {
     "cell_type": "code",
     "checksum": "14448adb09b01e771b44bcbb9d663f38",
     "grade": false,
     "grade_id": "cell-293277807c63baaf",
     "locked": false,
     "schema_version": 3,
     "solution": true
    }
   },
   "outputs": [],
   "source": [
    "# your code here\n",
    "incomplete = []\n",
    "for k, v in students.items():\n",
    "    if v == False:\n",
    "        incomplete.append(k)"
   ]
  },
  {
   "cell_type": "code",
   "execution_count": 25,
   "metadata": {
    "deletable": false,
    "editable": false,
    "nbgrader": {
     "cell_type": "code",
     "checksum": "47d497f81b2577691b3d2eb8286fd7f6",
     "grade": true,
     "grade_id": "cell-2a806b0b0c85649a",
     "locked": true,
     "points": 0.75,
     "schema_version": 3,
     "solution": false
    }
   },
   "outputs": [],
   "source": [
    "assert isinstance(incomplete, list)\n",
    "assert len(incomplete) == 2\n"
   ]
  },
  {
   "cell_type": "markdown",
   "metadata": {},
   "source": [
    "**Q8: Functions I (0.75 points)**\n",
    "\n",
    "Write a function `return_even` that will take a list as its input and return a list of all the even *values* as its output. \n",
    "\n",
    "Note that this differs from what you did above in two ways: (1) it returns the values, not the index, and (2) it's looking for even values, not odd.\n",
    "\n",
    "For example:\n",
    "\n",
    "```python\n",
    ">>> return_even([1, 2, 3, 4])\n",
    "[2, 4]\n",
    ">>> return_even([1, 3, 5])\n",
    "[]\n",
    "```"
   ]
  },
  {
   "cell_type": "code",
   "execution_count": 28,
   "metadata": {
    "deletable": false,
    "nbgrader": {
     "cell_type": "code",
     "checksum": "ca680579c4a753a24f9274e8f30b58cf",
     "grade": false,
     "grade_id": "cell-f5cd038c9d5c81a2",
     "locked": false,
     "schema_version": 3,
     "solution": true
    }
   },
   "outputs": [],
   "source": [
    "# your code here\n",
    "def return_even(l):\n",
    "    ans = []\n",
    "    for i in l:\n",
    "        if i % 2 == 0:\n",
    "            ans.append(i)\n",
    "    return ans"
   ]
  },
  {
   "cell_type": "code",
   "execution_count": 29,
   "metadata": {
    "deletable": false,
    "editable": false,
    "nbgrader": {
     "cell_type": "code",
     "checksum": "2c2b510d66dd027bcba1d808d6cc036a",
     "grade": true,
     "grade_id": "cell-72092ce37bd26a1b",
     "locked": true,
     "points": 0.75,
     "schema_version": 3,
     "solution": false
    }
   },
   "outputs": [],
   "source": [
    "assert return_even([1, 3, 5]) == []\n",
    "assert return_even([1, 2, 3, 4]) == [2, 4]"
   ]
  },
  {
   "cell_type": "markdown",
   "metadata": {
    "deletable": false,
    "editable": false,
    "nbgrader": {
     "cell_type": "markdown",
     "checksum": "7043b82f42a9e0c30eea04b1ec2a4fe6",
     "grade": false,
     "grade_id": "cell-55c5ff22e018213c",
     "locked": true,
     "schema_version": 3,
     "solution": false
    }
   },
   "source": [
    "**Q9: Functions II (0.75 points)**\n",
    "\n",
    "Write a function `squared_diff` that takes two number inputs and returns the squared difference of the two numbers i.e., $(a - b)^2$. For example:\n",
    "\n",
    "```python\n",
    ">>> squared_diff(2, 4)\n",
    "4\n",
    ">>> squared_diff(10, 1)\n",
    "81\n",
    "```"
   ]
  },
  {
   "cell_type": "code",
   "execution_count": 35,
   "metadata": {
    "deletable": false,
    "nbgrader": {
     "cell_type": "code",
     "checksum": "d70f424d4f3807496fbf11c63e88f94e",
     "grade": false,
     "grade_id": "add2",
     "locked": false,
     "schema_version": 3,
     "solution": true
    }
   },
   "outputs": [],
   "source": [
    "# your code here\n",
    "def squared_diff(a, b):\n",
    "    c = a - b\n",
    "    return c ** 2"
   ]
  },
  {
   "cell_type": "code",
   "execution_count": 36,
   "metadata": {
    "deletable": false,
    "editable": false,
    "nbgrader": {
     "cell_type": "code",
     "checksum": "ba31ac421b396401775ead4633f95271",
     "grade": true,
     "grade_id": "add2-tests",
     "locked": true,
     "points": 0.75,
     "schema_version": 3,
     "solution": false
    }
   },
   "outputs": [],
   "source": [
    "assert squared_diff(2, 4) == 4\n",
    "assert squared_diff(10, 1) == 81\n",
    "\n",
    "# There are also hidden tests that check more cases of squared_diff"
   ]
  },
  {
   "cell_type": "markdown",
   "metadata": {
    "deletable": false,
    "editable": false,
    "nbgrader": {
     "cell_type": "markdown",
     "checksum": "740824512cc7fcfd650e40978804dbec",
     "grade": false,
     "grade_id": "cell-57addbde2ff102b5",
     "locked": true,
     "schema_version": 3,
     "solution": false
    }
   },
   "source": [
    "**Q10: Putting it all together (1 point)**\n",
    "\n",
    "Here, we'll update the values in `dictionary`, storing the output in a dictionary called `other_dictionary`. This new dictionary will have the same keys, but some values will be updated.\n",
    "\n",
    "The values in `other_dictionary` should be updated, such that if the value in the original `dictionary` is...\n",
    "* odd: update the the value stored in the dictionary to store the squared difference of the original value and '10'. Remember, you created a function to do this above.)\n",
    "* even: store the original value (from `dictionary`). \n",
    "\n",
    "Hints: \n",
    "1. to loop through key-value pairs in a dictionary, check out the `.items` method\n",
    "2. You created a `squared_diff` function above."
   ]
  },
  {
   "cell_type": "code",
   "execution_count": 37,
   "metadata": {
    "deletable": false,
    "editable": false,
    "nbgrader": {
     "cell_type": "code",
     "checksum": "2a75ed84f55ea71a14ded598f34bffdd",
     "grade": false,
     "grade_id": "cell-92c1d23c29d7e77e",
     "locked": true,
     "schema_version": 3,
     "solution": false
    }
   },
   "outputs": [
    {
     "data": {
      "text/plain": [
       "dict_items([('a', 0), ('b', 1), ('c', 2), ('d', 3), ('e', 4), ('f', 5)])"
      ]
     },
     "execution_count": 37,
     "metadata": {},
     "output_type": "execute_result"
    }
   ],
   "source": [
    "# run this cell to remind yourself what is stored in `dictionary`\n",
    "dictionary.items()"
   ]
  },
  {
   "cell_type": "code",
   "execution_count": 43,
   "metadata": {
    "deletable": false,
    "nbgrader": {
     "cell_type": "code",
     "checksum": "a5c0a4024acdec017dd14e46ef8ba6f1",
     "grade": false,
     "grade_id": "cell-50b7166b6554cfff",
     "locked": false,
     "schema_version": 3,
     "solution": true
    }
   },
   "outputs": [],
   "source": [
    "# your code here\n",
    "other_dictionary = dictionary\n",
    "for k, v in other_dictionary.items():\n",
    "    if v % 2 != 0:\n",
    "        other_dictionary[k] = squared_diff(v, 10)"
   ]
  },
  {
   "cell_type": "code",
   "execution_count": 44,
   "metadata": {
    "deletable": false,
    "editable": false,
    "nbgrader": {
     "cell_type": "code",
     "checksum": "51e5dc6f85ac5d457f73f5d3c1f94509",
     "grade": true,
     "grade_id": "cell-efa2dd1099f123b0",
     "locked": true,
     "points": 0.25,
     "schema_version": 3,
     "solution": false
    }
   },
   "outputs": [],
   "source": [
    "assert isinstance(other_dictionary, dict)"
   ]
  },
  {
   "cell_type": "code",
   "execution_count": 45,
   "metadata": {
    "deletable": false,
    "editable": false,
    "nbgrader": {
     "cell_type": "code",
     "checksum": "badf430d8bc841006c23544b2cbcd12b",
     "grade": true,
     "grade_id": "cell-234cdbef12134b0d",
     "locked": true,
     "points": 0.75,
     "schema_version": 3,
     "solution": false
    }
   },
   "outputs": [],
   "source": [
    "assert other_dictionary\n",
    "\n",
    "# There are hidden tests that check the contents of 'other_dictionary'."
   ]
  },
  {
   "cell_type": "markdown",
   "metadata": {
    "deletable": false,
    "editable": false,
    "nbgrader": {
     "cell_type": "markdown",
     "checksum": "be1841643194b92e9de2750bd6edfcd9",
     "grade": false,
     "grade_id": "cell-b709563be316715f",
     "locked": true,
     "schema_version": 3,
     "solution": false
    }
   },
   "source": [
    "## The End!\n",
    "\n",
    "This is the end of the first assignment!\n",
    "\n",
    "The goal here was to check your basic Python understanding. From here, assignments will be more data science centric, using lots of `pandas` and working with data!\n",
    "\n",
    "Have a look back over your answers, and also make sure to `Restart & Run All` from the kernel menu to double check that everything is working properly. You can also use the 'Validate' button above, which runs your notebook from top to bottom and checks to ensure all `assert` statements pass silently. When you are ready, submit on datahub!"
   ]
  },
  {
   "cell_type": "code",
   "execution_count": null,
   "metadata": {},
   "outputs": [],
   "source": []
  }
 ],
 "metadata": {
  "anaconda-cloud": {},
  "kernelspec": {
   "display_name": "Python 3 (ipykernel)",
   "language": "python",
   "name": "python3"
  },
  "language_info": {
   "codemirror_mode": {
    "name": "ipython",
    "version": 3
   },
   "file_extension": ".py",
   "mimetype": "text/x-python",
   "name": "python",
   "nbconvert_exporter": "python",
   "pygments_lexer": "ipython3",
   "version": "3.9.5"
  }
 },
 "nbformat": 4,
 "nbformat_minor": 1
}
